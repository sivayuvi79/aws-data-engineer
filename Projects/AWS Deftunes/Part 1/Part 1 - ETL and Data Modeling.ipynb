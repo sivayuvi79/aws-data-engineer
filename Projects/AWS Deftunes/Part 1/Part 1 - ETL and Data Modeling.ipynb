{
 "cells": [
  {
   "cell_type": "markdown",
   "id": "4005209e",
   "metadata": {},
   "source": [
    "<a id='1'></a>\n",
    "## 1 - Introduction\n",
    "\n",
    "DeFtunes is a new company in the music industry, offering a subscription-based app for streaming songs. Recently, they have expanded their services to include digital song purchases. With this new retail feature, DeFtunes requires a data pipeline to extract purchase data from their new API and operational database, enrich and model this data, and ultimately deliver the comprehensive data model for the Data Analysis team to review and gain insights. Your task is to develop this pipeline, ensuring the data is accurately processed and ready for in-depth analysis.\n",
    "\n",
    "Here is the diagram with the main requirements for this project:\n",
    "\n",
    "![Capstone_Diagram](images/Capstone-diagram.png)\n",
    "\n",
    "1. The pipeline has to follow a medallion architecture with a landing, transform and serving zone.\n",
    "2. The data generated in the pipeline will be stored in the company's data lake, in this case, an S3 bucket.\n",
    "3. The silver layer should use Iceberg tables, and the gold layer should be inside Redshift.\n",
    "4. The pipeline should be reproducible, you will have to implement it using Terraform.\n",
    "5. The data should be modelled into a star schema in the serving layer, you should use dbt for the modelling part."
   ]
  },
  {
   "cell_type": "markdown",
   "id": "52e7677d",
   "metadata": {},
   "source": []
  }
 ],
 "metadata": {
  "language_info": {
   "name": "python"
  }
 },
 "nbformat": 4,
 "nbformat_minor": 5
}
