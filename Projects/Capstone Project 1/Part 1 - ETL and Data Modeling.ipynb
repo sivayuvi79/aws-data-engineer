{
 "cells": [
  {
   "cell_type": "markdown",
   "id": "4005209e",
   "metadata": {},
   "source": [
    "# ETL Pipeline and Data Modeling\n",
    "## Business Objective:\n",
    "    - DefTune is a new music streaming company recently they gained popularity so they decided to build analytical platform based data they generate using user purchase and streamed musics for future decisions\n",
    "## Data Pipeline Arcitecture\n",
    "![Alt Text](images/Capstone-diagram.png)"
   ]
  },
  {
   "cell_type": "markdown",
   "id": "52e7677d",
   "metadata": {},
   "source": []
  }
 ],
 "metadata": {
  "language_info": {
   "name": "python"
  }
 },
 "nbformat": 4,
 "nbformat_minor": 5
}
